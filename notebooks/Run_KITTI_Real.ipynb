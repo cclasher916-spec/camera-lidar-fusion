# Real KITTI subset runner for Colab
# This notebook wires the repo to a real KITTI-format subset you upload or host.

#@title 0) Setup repo and dependencies
!git clone https://github.com/cclasher916-spec/camera-lidar-fusion.git -q
%cd camera-lidar-fusion
!pip install -q --upgrade pip
!pip install -q -r requirements.txt

#@title 1) Create KITTI folder structure (upload your files next)
from pathlib import Path
base = Path('/content/kitti')
for p in [base/'image_2', base/'velodyne', base/'calib', base/'label_2']:
    p.mkdir(parents=True, exist_ok=True)
print('Folders ready at /content/kitti (upload 000000..000004.*)')

#@title 2) OPTIONAL: If you have public URLs for 5 demo frames, paste below and run
urls = {
    'image_2': [
        # 'https://host/kitti/image_2/000000.png',
    ],
    'velodyne': [
        # 'https://host/kitti/velodyne/000000.bin',
    ],
    'calib': [
        # 'https://host/kitti/calib/000000.txt',
    ],
    'label_2': [
        # 'https://host/kitti/label_2/000000.txt',
    ],
}
import urllib.request
for k, lst in urls.items():
    for u in lst:
        dst = base/k/u.split('/')[-1]
        try:
            urllib.request.urlretrieve(u, dst)
            print('Downloaded', dst)
        except Exception as e:
            print('Failed', u, e)

#@title 3) Run on real data (will fail if files missing)
!python tools/run_kitti_real.py --dataset_path /content/kitti --max_samples 5 --save_plots
